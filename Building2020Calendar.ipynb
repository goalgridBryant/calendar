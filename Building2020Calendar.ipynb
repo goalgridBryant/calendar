{
 "cells": [
  {
   "cell_type": "markdown",
   "metadata": {},
   "source": [
    "Building my 2020 calendar how I like it with Python"
   ]
  },
  {
   "cell_type": "code",
   "execution_count": 1,
   "metadata": {},
   "outputs": [],
   "source": [
    "days_list = [\"Wednesday\", \"Thursday\", \"Friday\", \"Saturday\", \"Sunday\", \"Monday\", \"Tuesday\"]\n",
    "\n",
    "months_list = [\"January\", \"February\", \"March\", \"April\", \"May\", \"June\",\n",
    "               \"July\", \"August\", \"September\", \"October\", \"November\", \"December\"]\n",
    "\n",
    "month_lengths_list = [31, 29, 31, 30, 31, 30, 31, 31, 30, 31, 30, 31]"
   ]
  },
  {
   "cell_type": "code",
   "execution_count": 2,
   "metadata": {},
   "outputs": [
    {
     "name": "stdout",
     "output_type": "stream",
     "text": [
      "['Wednesday, January 1:', 'Thursday, January 2:', 'Friday, January 3:', 'Saturday, January 4:', 'Sunday, January 5:']\n",
      "['Sunday, December 27:', 'Monday, December 28:', 'Tuesday, December 29:', 'Wednesday, December 30:', 'Thursday, December 31:']\n"
     ]
    }
   ],
   "source": [
    "day_name = 0\n",
    "\n",
    "objects_list = []\n",
    "\n",
    "for month in range(len(month_lengths_list)):\n",
    "    for day in range(month_lengths_list[month]):\n",
    "        objects_list.append(days_list[day_name % 7] + \", \" \n",
    "                            + months_list[month] + \" \" + str(day+1) + \":\")\n",
    "        day_name +=1\n",
    "        \n",
    "print(objects_list[0:5])\n",
    "print(objects_list[-5:])"
   ]
  },
  {
   "cell_type": "code",
   "execution_count": null,
   "metadata": {},
   "outputs": [],
   "source": []
  }
 ],
 "metadata": {
  "kernelspec": {
   "display_name": "Python 3",
   "language": "python",
   "name": "python3"
  },
  "language_info": {
   "codemirror_mode": {
    "name": "ipython",
    "version": 3
   },
   "file_extension": ".py",
   "mimetype": "text/x-python",
   "name": "python",
   "nbconvert_exporter": "python",
   "pygments_lexer": "ipython3",
   "version": "3.6.5"
  }
 },
 "nbformat": 4,
 "nbformat_minor": 2
}
